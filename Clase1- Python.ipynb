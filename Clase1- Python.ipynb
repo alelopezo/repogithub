{
 "cells": [
  {
   "cell_type": "markdown",
   "metadata": {},
   "source": [
    " # Clase 1 - Python"
   ]
  },
  {
   "cell_type": "markdown",
   "metadata": {},
   "source": [
    "\n"
   ]
  },
  {
   "cell_type": "markdown",
   "metadata": {},
   "source": [
    "## Contenido\n",
    "\n",
    "- Introducción y herramientas\n",
    "- Utilidades y tipos de datos\n",
    "- Numpy\n",
    "- Basics de Análisis de Datos\n",
    "\n"
   ]
  },
  {
   "cell_type": "markdown",
   "metadata": {},
   "source": [
    "# Introducción y herramientas\n",
    "\n",
    "## ¿Qué es Python?\n",
    "- Desarrollado por Guido Van Rossum\n",
    "- De propósito general: puedes construir lo que quieras\n",
    "- Open source, es decir, es *gratis*\n",
    "- Lenguaje orientado a objetos: todo es un objeto\n",
    "- Es fácil hacer paquetes para Python, también para Ciencia de Datos\n",
    "- Vamos a ver Python enfocado a Ciencia de Datos\n",
    "    - Cómo guardar datos\n",
    "    - Cómo limpiar datos\n",
    "    - Cómo manipular datos\n",
    "    - Herramientas para análisis\n",
    "- Hay muchas versiones de Python, vamos a trabajar con la 3.7\n",
    "    - Solamente si van a trabajar con [Theano](http://deeplearning.net/software/theano/) recomienda la 2.7\n",
    "\n",
    "\n",
    "## ¿Cómo vamos a trabajar?\n",
    "- Bajar [Anaconda](https://www.anaconda.com/)\n",
    "- Bajar [Jupyter](http://jupyter.org/)\n",
    "- Bajar [Spyder](https://www.spyder-ide.org/)\n",
    "- Shell de Python:\n",
    "    - Es como la consola de R\n",
    "    - Permite escribir código para experimentar\n",
    "- Scripts:\n",
    "    - Son archivos de texto reproducibles, tienen la extensión *.py*\n",
    "    - Contienen una serie de comandos en Python\n",
    "    - Similares a escribir en el shell de IPython\n",
    "- Jupyter Notebook\n",
    "    - Es un cuaderno que nos permite combinar tanto texto como código\n",
    "    - El texto está escrito con formato Markdown igual que RMarkdown :)\n",
    "- Spyder\n",
    "    - Muy parecido a RStudio pero para Python\n",
    "    - Es uno de los IDES más populares\n",
    "\n",
    "### ¿Qué es Anaconda?\n",
    "\n",
    "- Es una distribución de Python y de R, la más famosa para Ciencia de Datos\n",
    "- 6 millones de usuarios que hacen ciencia de datos\n",
    "- Estándar de la industria para desarrollar, probar y entrenar modelos en una sola máquina\n",
    "- Permite la colaboración de muchos usuarios en tiempo real\n",
    "- Permite crear ambientes con versiones específicas de Python y paquetes instalados: ENCAPSULAMIENTO\n",
    "- Esto es un súper plus en Python porque tenemos muchas versiones diferentes que son compatibles con algunos paquetes pero no con otros\n",
    "- Es fácil crear una seria de paquetes y versiones que sean distribuibles, i.e. que pueda compartir con otros usuarios, incluyendo todas sus dependencias\n",
    "- Cuando instalamos Anaconda, podemos crear un ambiente y ponerle la versión de Python que queramos\n",
    "- Anaconda ya tiene precargados el NoteBook de Jupyer y otros paquetes para ciencia de datos\n",
    "\n",
    "#### Cómo usamos Anaconda\n",
    "\n",
    "- Creación de [ambientes](https://conda.io/docs/user-guide/tasks/manage-environments.html#activate-env)\n",
    "\n",
    "1. Para crear un ambiente de cierta versión de Python:\n",
    "\n",
    "`conda create -n myenv python=3.4`\n",
    "\n",
    "2. Para instalar un paquete\n",
    "\n",
    "`conda install -n myenv scipy`\n",
    ".\n",
    "    - Si queremos una versión específica del paquete: \n",
    "    \n",
    "  `conda install -n myenv scipy=0.15.0`\n",
    "     \n",
    "3. Si queremos instalar de una vez Python con ciertos paquetes\n",
    "\n",
    "`conda create -n myenv python=3.4 scipy=0.15.0 astroid babel`\n",
    "\n",
    "4. Si queremos clonar un ambiente:\n",
    "\n",
    "`conda create --name myclone --clone myenv`\n",
    "\n",
    "5. Para activar un ambiente\n",
    "\n",
    "    - Windows: `activate myenv`\n",
    "    - macOS y Linux: `source activate myenv`\n",
    "    \n",
    "6. Desactivar un ambiente:\n",
    "\n",
    "    - Windows: `deactivate`\n",
    "    - macOS y Linux: `source deactivate`\n",
    "\n",
    "7. Para ver listado de ambientes\n",
    "\n",
    "`conda info --envs`\n",
    "\n",
    "8. Para saber qué ambiente está corriendo, me fijo en el que tiene el asterisco\n",
    "\n",
    "`conda info --envs`\n",
    "\n",
    "9. Para saber qué paquetes tiene instalados un ambiente\n",
    "\n",
    "`conda list -n myenv`\n",
    "\n",
    "10. Para saber qué paquetes tiene instalados mi ambiente corriendo\n",
    "\n",
    "`conda list`\n",
    "\n",
    "11. Para usar el comando `pip` (para instalar paquetes en Python), usamos:\n",
    "\n",
    "`conda install -n myenv pip\n",
    "source activate myenv\n",
    "pip <pip_subcommand>`\n",
    "\n",
    "12. Para eliminar un ambiente\n",
    "\n",
    "`conda remove --name myenv --all`\n",
    "\n",
    "> **EJERCICIO.** Crear un ambiente con Python 3.7 en Anaconda, instálale el paquete `pip` y finalmente actívalo. Cerciórate que ese nuevo ambiente está instalado.\n",
    "\n",
    "\n",
    "### ¿Qué es el Notebook de Jupyter?\n",
    "\n",
    "- [Jupyter Notebook](http://jupyter.org/) es una aplicación web libre que permite crear y compartir documentos con texto,código, ecuaciones, visualizaciones\n",
    "- Se usa principalmente para hacer ciencia de datos (limpieza, transformación, modelado estadístico, machine learning, simulación, visualización)\n",
    "- Puedes embeber código, gráficos, urls, videos y texto usando como sintaxis markdown\n",
    "- Se puede usar con:\n",
    "    - Python\n",
    "    - Julia\n",
    "    - R\n",
    "    - C++\n",
    "    - Scala\n",
    "- Features:\n",
    "    - Trabaja con varios lenguajes\n",
    "    - Puedes compartir los notebooks por email, Dropbox, GitHub y el Jupyter Notebook Viewer\n",
    "    - Output interactivo: HTML, images, videos, LaTeX\n",
    "    - Integración con herramientas de Big Data de Apache Spark desde Python (Pyspark, la API de Python para Spark),  R  (Sparklyr) y Scala. Es decir, se puede explorar lo mismo con pandas, scikit-learn, ggplot2, Tensorflow\n",
    "    - Se puede exportar en muchos formatos:\n",
    "            - html\n",
    "            - .ipynb (notebook)\n",
    "            - pdf\n",
    "            - LaTex\n",
    "    \n",
    "\n",
    "\n",
    "#### ¿Cómo instalamos Jupyter?\n",
    "\n",
    "Para tener *Jupyter*, necesitamos tener Python>=3.3 o Python 2.7\n",
    "\n",
    "2 maneras:\n",
    "\n",
    "- Usando *Anaconda*, que ya trae Python y Jupyter \n",
    "- Usando `pip`python3 -m pip install --upgrade pip. `pip` es el manejador de paquetes de Python, con ese comando instalaremos los paquetes.\n",
    "\n",
    "`python3 -m pip install jupyter`\n",
    "\n",
    "\n",
    "#### ¿Cómo abrimos un notebook de Jupyter?\n",
    "\n",
    "- Simplemente creamos nuestro ambiente de Python en Anaconda, y escribimos `jupyter notebook`. Se nos abrirá un *Jupyter* con \n",
    "\n",
    "- Si no instalamos *Anaconda*, entonces simplemente ponemos `jupyter notebook` en la terminal\n",
    "\n",
    "- ¿Cómo comparto mi notebook de Python?\n",
    "\n",
    "#### ¿Cómo corremos los chunks de código en un notebook de Jupyer?\n",
    "\n",
    "- Una caja de texto o código se corre de varias maneras:\n",
    "- Individualmente pulsando el botón *Run* o `Shift+Enter`\n",
    "- Individualmente en el menú *Cell*\n",
    "- Todas con el menú `Cell` con la opción *Rull all*\n",
    "- Opciones customizables usando el menú *Cell*\n",
    "\n",
    "#### ¿Cómo compartimos nuestro notebook de Jupyter?\n",
    "\n",
    "1. Hostear tu notebook de Python en un repo de Github. Esto tiene la ventaja de que está montado en la red.\n",
    "    - Ir [NBViewer](http://nbviewer.ipython.org/) y pegar el URL de Github\n",
    "ó\n",
    "\n",
    "2. Email ó\n",
    "\n",
    "3. Dropbox\n",
    "\n",
    "4. Al parecer aún no se puede hostear en Bitbucket. Se supone que esto es una aplicación para hacerlo: [aplicación](https://bitbucket.org/bitbucket/bitbucket-nbviewer/src/master/)\n",
    "\n",
    ">**EJERCICIO.** Dentro de tu ambiente de Python que creaste, abre un notebook de Jupyter, escribe tu nombre y expórtalo como Notebook .ipynb. Observa que también puedes ver tus proyectos de R en el mismo notebook de Jupyter pero observa también que todo esto está en ambiente local.\n",
    "\n",
    ">**EJERCICIO. ** Hostea tu Notebook en [NBViewer](http://nbviewer.ipython.org/). Hint: Debes abrir una [cuenta en Github](https://reproducible-science-curriculum.github.io/sharing-RR-Jupyter/01-sharing-github/)\n",
    "\n",
    "### ¿Qué es Spyder?\n",
    "- [Spyder](https://www.spyder-ide.org/) es un IDE (Integrated Development Environment) escrito para trabajar con Python\n",
    "- Está orientado al cómputo científico\n",
    "- Es muy parecido a RStudio, así que será sencillo usarlo\n",
    "- Viene con un editor para escribir código, una consola para evaluar y ver resultados\n",
    "- También viene con una vista de variables para ver las que se han usado\n",
    "- Otra opción de editor es [Pycharm](https://www.jetbrains.com/pycharm/), sin embargo esta IDE es mucho más compleja y está más orientada a Desarrolladores\n",
    "\n",
    ">**EJERCICIO**. Abre Spyder desde la consola, crea un archivo que imprima tu nombre: `print(\"My nombre es ...\")` y córrelo en la consola.\n",
    "\n",
    "\n",
    "### Resumen\n",
    "\n",
    "![](software_python.png)"
   ]
  },
  {
   "cell_type": "markdown",
   "metadata": {},
   "source": [
    "## Utilidades y tipos de datos \n",
    "\n",
    "### Preliminares\n",
    "- Comentarios se escriben con `#`\n",
    "- Python puede usarse como calculadora:\n",
    "    - Exponenciación: 2**4\n",
    "    - Módulo: `5%2`\n",
    "- Declaración de variables se hacen con `=`\n",
    "- Ayuda de pide con `help()`\n",
    "- Ver en qué versión de Python estás trabajando: `sys.version_info`. Verifica que es la 3.7"
   ]
  },
  {
   "cell_type": "code",
   "execution_count": 29,
   "metadata": {},
   "outputs": [
    {
     "data": {
      "text/plain": [
       "sys.version_info(major=3, minor=7, micro=0, releaselevel='final', serial=0)"
      ]
     },
     "execution_count": 29,
     "metadata": {},
     "output_type": "execute_result"
    }
   ],
   "source": [
    "import sys \n",
    "sys.version_info"
   ]
  },
  {
   "cell_type": "code",
   "execution_count": 30,
   "metadata": {},
   "outputs": [
    {
     "name": "stdout",
     "output_type": "stream",
     "text": [
      "Así declaramos una variable: \n",
      "\n",
      "\n",
      "Y la imprimimos: \n",
      "2\n"
     ]
    }
   ],
   "source": [
    "print(\"Así declaramos una variable: \")\n",
    "\n",
    "x=2\n",
    "\n",
    "print(\"\\n\")\n",
    "print(\"Y la imprimimos: \")\n",
    "print(x)"
   ]
  },
  {
   "cell_type": "markdown",
   "metadata": {},
   "source": [
    "### Tipos básicos\n",
    "\n",
    "- Tipos de datos\n",
    "    - `int`: enteros\n",
    "    - `float`: punto flotante, tiene parte entera y decimal separada por punto\n",
    "    - `str`: strings\n",
    "    - `bool`: booleanos\n",
    "- Cada tipo tiene una funcionalidad distinta asociada\n",
    "- El tipado en Python es *dinámico*, lo cual significa que el tipo de variable no tiene que ser declarado al inicio, pues el tipo de variable se conoce hasta que se corre el código\n",
    "- Para saber el tipo de variables: `type()`"
   ]
  },
  {
   "cell_type": "code",
   "execution_count": 31,
   "metadata": {},
   "outputs": [
    {
     "name": "stdout",
     "output_type": "stream",
     "text": [
      "Enteros: \n"
     ]
    },
    {
     "data": {
      "text/plain": [
       "int"
      ]
     },
     "execution_count": 31,
     "metadata": {},
     "output_type": "execute_result"
    }
   ],
   "source": [
    "print(\"Enteros: \")\n",
    "type(5)"
   ]
  },
  {
   "cell_type": "code",
   "execution_count": 32,
   "metadata": {},
   "outputs": [
    {
     "name": "stdout",
     "output_type": "stream",
     "text": [
      "Floats: \n"
     ]
    },
    {
     "data": {
      "text/plain": [
       "float"
      ]
     },
     "execution_count": 32,
     "metadata": {},
     "output_type": "execute_result"
    }
   ],
   "source": [
    "print(\"Floats: \")\n",
    "#float\n",
    "type(1.10)"
   ]
  },
  {
   "cell_type": "code",
   "execution_count": 33,
   "metadata": {},
   "outputs": [
    {
     "name": "stdout",
     "output_type": "stream",
     "text": [
      "Strings tenemos dos maneras de escribirlos: \n",
      "hola\n",
      "hola\n",
      "<class 'str'>\n",
      "Los tipos de datos se comportan diferente\n"
     ]
    },
    {
     "data": {
      "text/plain": [
       "'sepegapegapegapegapegapegapegapegapegapega'"
      ]
     },
     "execution_count": 33,
     "metadata": {},
     "output_type": "execute_result"
    }
   ],
   "source": [
    "print(\"Strings tenemos dos maneras de escribirlos: \")\n",
    "print(\"hola\")\n",
    "print('hola')\n",
    "print(type(\"hola\"))\n",
    "\n",
    "print(\"Los tipos de datos se comportan diferente\")\n",
    "\"se\"+\"pega\"*10"
   ]
  },
  {
   "cell_type": "markdown",
   "metadata": {},
   "source": [
    "### Cast\n",
    "- `int()`\n",
    "- `float()`\n",
    "- `bool()`\n",
    "- `str()`\n",
    "\n",
    "### Asignación de variables\n",
    "- Es por *referencia*, no por *valor* (recordar que en R es por *valor*)"
   ]
  },
  {
   "cell_type": "code",
   "execution_count": 34,
   "metadata": {},
   "outputs": [
    {
     "name": "stdout",
     "output_type": "stream",
     "text": [
      "Asigno a x una lista\n",
      "[1, 2, 3]\n",
      "\n",
      "\n",
      "Ahora guardo en y lo que estaba en x\n",
      "\n",
      "\n",
      "Ahora modifico la primer entrada de y en 100\n",
      "\n",
      "\n",
      "Imprimo x y me doy cuenta que el valor también cambió\n",
      "Esto es porque la asignación es por referencia, no por valor\n",
      "[100, 2, 3]\n",
      "\n",
      "\n",
      "Ahora si en vez de lo anterior convierto a lista:\n",
      "Vuelvo a modificar la primer entrada de y en 1000000\n",
      "ahora 'y' es [1000000, 2, 3]\n",
      "\n",
      "\n",
      "Pero el valor de x no se modifico, ¿por qué?\n",
      "[100, 2, 3]\n"
     ]
    }
   ],
   "source": [
    "print(\"Asigno a x una lista\")\n",
    "x = [1,2,3]\n",
    "print(x)\n",
    "\n",
    "print(\"\\n\")\n",
    "print(\"Ahora guardo en y lo que estaba en x\")\n",
    "y = x\n",
    "\n",
    "print(\"\\n\")\n",
    "y[0] =100\n",
    "print(\"Ahora modifico la primer entrada de y en \" + str(y[0]))\n",
    "\n",
    "\n",
    "\n",
    "print(\"\\n\")\n",
    "print(\"Imprimo x y me doy cuenta que el valor también cambió\")\n",
    "print(\"Esto es porque la asignación es por referencia, no por valor\")\n",
    "print(x)\n",
    "\n",
    "print(\"\\n\")\n",
    "print(\"Ahora si en vez de lo anterior convierto a lista:\")\n",
    "y=list(x)\n",
    "\n",
    "y[0]=1000000\n",
    "print(\"Vuelvo a modificar la primer entrada de y en \" + str(y[0]))\n",
    "print(\"ahora 'y' es \" + str(y))\n",
    "\n",
    "print(\"\\n\")\n",
    "print(\"Pero el valor de x no se modifico, ¿por qué?\")\n",
    "\n",
    "print(x)"
   ]
  },
  {
   "cell_type": "markdown",
   "metadata": {},
   "source": [
    "### Impresión\n",
    "- Se hace usando `print()`\n",
    "- Si se van a imprimir varios tipos de datos, se tiene que hacer *cast* a string antes "
   ]
  },
  {
   "cell_type": "code",
   "execution_count": 35,
   "metadata": {},
   "outputs": [
    {
     "name": "stdout",
     "output_type": "stream",
     "text": [
      "Hola, tengo 20 años\n"
     ]
    }
   ],
   "source": [
    "x = 20\n",
    "print(\"Hola, tengo \" + str(x) + \" años\")"
   ]
  },
  {
   "cell_type": "code",
   "execution_count": 36,
   "metadata": {},
   "outputs": [
    {
     "name": "stdout",
     "output_type": "stream",
     "text": [
      "50 20 10\n"
     ]
    }
   ],
   "source": [
    "print(x+30, x, 10)\n"
   ]
  },
  {
   "cell_type": "code",
   "execution_count": 37,
   "metadata": {},
   "outputs": [
    {
     "data": {
      "text/plain": [
       "1"
      ]
     },
     "execution_count": 37,
     "metadata": {},
     "output_type": "execute_result"
    }
   ],
   "source": [
    "True+False"
   ]
  },
  {
   "cell_type": "markdown",
   "metadata": {},
   "source": [
    "> **EJERCICIO.** ¿Cómo difiere Python de R con respecto a la forma de impriir?"
   ]
  },
  {
   "cell_type": "markdown",
   "metadata": {},
   "source": [
    "### Listas\n",
    "- Otro tipo de dato\n",
    "- Sintaxis: `[x, y, z]`\n",
    "- Colleción de valores\n",
    "- Pueden tener cualquier tipo de dato (incluso listas!)\n",
    "- Con `len` puedo ver su longitud"
   ]
  },
  {
   "cell_type": "code",
   "execution_count": 38,
   "metadata": {},
   "outputs": [
    {
     "name": "stdout",
     "output_type": "stream",
     "text": [
      "['hola', 'tengo', 10, ['años', 'y contanto']]\n",
      "4\n"
     ]
    }
   ],
   "source": [
    "my_lista  = [\"hola\", \"tengo\", 10, [\"años\", \"y contanto\"]]\n",
    "print(my_lista)\n",
    "print(len(my_lista))"
   ]
  },
  {
   "cell_type": "markdown",
   "metadata": {},
   "source": [
    "#### Acceso a listas:\n",
    "\n",
    "    - Indexación: se hace usando `[]` al elemento que queremos accesar. \n",
    "        - Se empieza por *cero*, es decir `[0]` es el primer elemento\n",
    "        - Podemos accesar al último elemento usando `[-1]`\n",
    "    - Rangos: para obtener un subconjunto de la muestra, se hace usando `[inicio: final]`\n",
    "        - El inicio es inclusivo, el final es exclusivo, es decir, el final no se incluye\n",
    "    - Manipulación:\n",
    "        - Cambiar elementos: simplemente uso `[]` para acceder a los elementos\n",
    "        - Añadir elementos: lo agrego usando `+` y el elemento a añadir en corchetes\n",
    "        - Eliminar elementos: uso `del[elemento]`"
   ]
  },
  {
   "cell_type": "code",
   "execution_count": 39,
   "metadata": {},
   "outputs": [
    {
     "name": "stdout",
     "output_type": "stream",
     "text": [
      "hola\n",
      "['años', 'y contanto']\n",
      "['hola', 'tengo']\n",
      "['hola', 'tengo', 10]\n",
      "['tengo', 10, ['años', 'y contanto']]\n",
      "['hola', 'tengo', 10, ['años', 'y contanto']]\n",
      "['ya', 'cambié', 20, ['años', 'y contanto']]\n",
      "['ya', 'cambié', 20, ['años', 'y contanto'], 'a lo seguro']\n",
      "['cambié', 20, ['años', 'y contanto']]\n"
     ]
    }
   ],
   "source": [
    "print(my_lista[0])\n",
    "print(my_lista[-1])\n",
    "\n",
    "print(my_lista[0:2])\n",
    "print(my_lista[:3])\n",
    "print(my_lista[-3:])\n",
    "\n",
    "print(my_lista[0:])\n",
    "\n",
    "my_lista[2] = 20\n",
    "my_lista[0:2] =[\"ya\", \"cambié\"]\n",
    "print(my_lista)\n",
    "\n",
    "print(my_lista + [\"a lo seguro\"])\n",
    "\n",
    "del(my_lista[0])\n",
    "print(my_lista)"
   ]
  },
  {
   "cell_type": "markdown",
   "metadata": {},
   "source": [
    "### Operadores\n",
    "- Booleanos se escriben con letras *and, or, not*\n",
    "- Operadores `<,>,>=,<=,==,!=`"
   ]
  },
  {
   "cell_type": "code",
   "execution_count": 40,
   "metadata": {},
   "outputs": [
    {
     "name": "stdout",
     "output_type": "stream",
     "text": [
      "False\n",
      "True\n",
      "False\n",
      "False\n"
     ]
    }
   ],
   "source": [
    "v1=True\n",
    "v2=False\n",
    "print(v1 and v2) \n",
    "print(v1 or v2)  \n",
    "print(not v1)\n",
    "print(5>6)"
   ]
  },
  {
   "cell_type": "markdown",
   "metadata": {},
   "source": [
    "### Funciones"
   ]
  },
  {
   "cell_type": "markdown",
   "metadata": {},
   "source": [
    "- Como en Matemáticas y se mandan llamar así `output = nombre_funcion(input)`\n",
    "- `max()`, `round()`, `min()`"
   ]
  },
  {
   "cell_type": "code",
   "execution_count": 41,
   "metadata": {},
   "outputs": [
    {
     "name": "stdout",
     "output_type": "stream",
     "text": [
      "378\n",
      "2\n",
      "1.6\n"
     ]
    }
   ],
   "source": [
    "print(max([1, 378, 26, 8])), print(round(1.56)); print(round(1.56, 1))"
   ]
  },
  {
   "cell_type": "markdown",
   "metadata": {},
   "source": [
    "> **EJERCICIO.** Crea un vector y normalízalo (i.e. que todos los valores queden entre 0 y 1). Después veremos otra manera de normalizar."
   ]
  },
  {
   "cell_type": "markdown",
   "metadata": {},
   "source": [
    "### Métodos\n",
    "- Todo en Python es objeto, tiene asociados métodos\n",
    "- Los métodos funciones de los objetos\n",
    "- Se mandan llamar llamar usando `.` antes del objeto\n",
    "- Métodos comunes de listas: \n",
    "    - `.index(\"Fer\")` me da el índice de un elemento que quiera buscar en mi lista\n",
    "    - `.count(\"cuentame\")` me da las veces que el elemento aparece en mi lista\n",
    "    - `.append(\"agrégame\")` me permite añadir al final de mi lista un elemento\n",
    "    - `.remove(\"elimíname\")` me permite remover el primer elemento que cumple con el patrón dado\n",
    "    - `.reverse` me pone el orden al revés\n",
    "- Métodos comunes de strings:\n",
    "    - `.capitalize()` me pone la primer letra de mi string en mayúscula\n",
    "    - `.replace(\"ap\", \"rep\")` me remplaza todas las ocurrencias de \"ap\" en mi lista por \"rep\"\n",
    "    \n",
    "- ¿Cómo saber qué strings hay para un tipo de dato? -> usamos `?`"
   ]
  },
  {
   "cell_type": "code",
   "execution_count": 42,
   "metadata": {},
   "outputs": [
    {
     "name": "stdout",
     "output_type": "stream",
     "text": [
      "['cambié', 20, ['años', 'y contanto']]\n"
     ]
    },
    {
     "data": {
      "text/plain": [
       "1"
      ]
     },
     "execution_count": 42,
     "metadata": {},
     "output_type": "execute_result"
    }
   ],
   "source": [
    "print(my_lista)\n",
    "my_lista.index(20)"
   ]
  },
  {
   "cell_type": "code",
   "execution_count": 43,
   "metadata": {},
   "outputs": [
    {
     "data": {
      "text/plain": [
       "['cambié', 20, ['años', 'y contanto']]"
      ]
     },
     "execution_count": 43,
     "metadata": {},
     "output_type": "execute_result"
    }
   ],
   "source": [
    "my_lista"
   ]
  },
  {
   "cell_type": "markdown",
   "metadata": {},
   "source": [
    ">EJERCICIO. Crea una lista y aplica cada una de las funciones de arriba"
   ]
  },
  {
   "cell_type": "markdown",
   "metadata": {},
   "source": [
    "### Paquetes\n",
    "- Son como scripts\n",
    "- Tienen definidas funciones y métodos\n",
    "- Se tienen miles de paquetes. Los hay para ciencia de Datos y son los que veremos como:\n",
    "    - **Numpy:** manejar arreglos\n",
    "    - **Matplotlib:** visualización\n",
    "    - **Scikit-learn:** machine learning\n",
    "- Instalar:\n",
    "    - pip, un manejador de paquetes. Ir [aquí](https://pip.readthedocs.io/en/stable/installing/) y bajar `get-pip.py`\n",
    "    - Ejecutar `get-pip.py` en la terminal y así podemos usar `pip` para instalar paquetes\n",
    "- Importar paquete: `import nombre_paquete` -> esto importa toda la funcionalidad del paquete\n",
    "- Hay que dar alias al paquete para llamarlo `import numpy as np`\n",
    "- Si sólo queremos una función específica del paquete podemos usar: `from numpy import array`"
   ]
  },
  {
   "cell_type": "code",
   "execution_count": 44,
   "metadata": {
    "scrolled": true
   },
   "outputs": [
    {
     "name": "stdout",
     "output_type": "stream",
     "text": [
      "\n",
      "\n",
      "Imprimimos arreglo:\n",
      "\n",
      "\n",
      "[10 30 40]\n"
     ]
    }
   ],
   "source": [
    "import numpy as np\n",
    "\n",
    "#array([10,30,40]) marca error porque el método del paquete se debe llamar\n",
    "\n",
    "print(\"\\n\")\n",
    "print(\"Imprimimos arreglo:\")\n",
    "print(\"\\n\")\n",
    "print(np.array([10,30,40]))"
   ]
  },
  {
   "cell_type": "code",
   "execution_count": 45,
   "metadata": {},
   "outputs": [
    {
     "name": "stdout",
     "output_type": "stream",
     "text": [
      "\n",
      "\n",
      "Si importamos 'array' igual nos imprime lo mismo\n",
      "\n",
      "\n",
      "[10 30 40]\n"
     ]
    }
   ],
   "source": [
    "from numpy import array\n",
    "\n",
    "print(\"\\n\")\n",
    "print(\"Si importamos 'array' igual nos imprime lo mismo\")\n",
    "print(\"\\n\")\n",
    "print(array([10,30,40]))"
   ]
  },
  {
   "cell_type": "markdown",
   "metadata": {},
   "source": [
    "## NumPy\n",
    "- Las listas son potentes pero no es posible aplicar muchas operaciones matemáticas sobre ellas\n",
    "- **NumPy** viene de \"numeric Python\"\n",
    "- La arternativa a las listas es el \"NumPy array\", una librería de Python muy optimizada\n",
    "- Se pueden hacer cálculos matemáticos sobre arreglos enteros fácil y rápidamente\n",
    "- Desventaja vs listas: no se pueden guardar varios tipos de datos. Si se guardan diferentes entonces se hace *coerción*\n",
    "- Sin embargo, NumPy es muy rápido justo gracias a que sólo guarda un tipo de dato\n",
    "- Instalación: `pip install numpy`\n",
    "- Se accesa igual que a las listas, usando `[]`\n"
   ]
  },
  {
   "cell_type": "code",
   "execution_count": 46,
   "metadata": {},
   "outputs": [
    {
     "name": "stdout",
     "output_type": "stream",
     "text": [
      "El vector construido es: \n",
      "[1 2 3 4 5]\n",
      "\n",
      "\n",
      "Podemos hacer operaciones aritméticas sobre él:\n",
      "[ 9 18 27 36 45]\n",
      "\n",
      "\n",
      "Sin embargo no es posible guardar varios tipos de datos:\n",
      "['100' 'Fer' 'False']\n",
      "\n",
      "\n",
      "Pero sí es posible sumar arrays: \n",
      "[50 65 71]\n",
      "\n",
      "\n",
      "Y accesar a sus componentes usando corchetes: \n",
      "2\n",
      "\n",
      "\n",
      "Veamos qué entradas son mayores que 3\n",
      "[False False False  True  True]\n",
      "\n",
      "\n",
      "Y a qué elementos corresponden\n",
      "[4 5]\n"
     ]
    }
   ],
   "source": [
    "import numpy as np\n",
    "vec1 = np.array([1,2,3,4,5])\n",
    "\n",
    "print(\"El vector construido es: \")\n",
    "print(vec1)\n",
    "\n",
    "print(\"\\n\")\n",
    "print(\"Podemos hacer operaciones aritméticas sobre él:\")\n",
    "print(vec1*3**2)\n",
    "\n",
    "print(\"\\n\")\n",
    "print(\"Sin embargo no es posible guardar varios tipos de datos:\")\n",
    "print(np.array([100, \"Fer\", False]))\n",
    "\n",
    "print(\"\\n\")\n",
    "print(\"Pero sí es posible sumar arrays: \")\n",
    "print(np.array([30, 40, 55]) + np.array([20, 25, 16]))\n",
    "\n",
    "print(\"\\n\")\n",
    "print(\"Y accesar a sus componentes usando corchetes: \")\n",
    "print(vec1[1])\n",
    "\n",
    "print(\"\\n\")\n",
    "print(\"Veamos qué entradas son mayores que 3\")\n",
    "print(vec1>3)\n",
    "\n",
    "print(\"\\n\")\n",
    "print(\"Y a qué elementos corresponden\")\n",
    "print(vec1[vec1>3])"
   ]
  },
  {
   "cell_type": "markdown",
   "metadata": {},
   "source": [
    "Operaciones útiles:\n"
   ]
  },
  {
   "cell_type": "code",
   "execution_count": 47,
   "metadata": {
    "scrolled": true
   },
   "outputs": [
    {
     "ename": "SyntaxError",
     "evalue": "invalid syntax (<ipython-input-47-56d64489aa56>, line 24)",
     "output_type": "error",
     "traceback": [
      "\u001b[1;36m  File \u001b[1;32m\"<ipython-input-47-56d64489aa56>\"\u001b[1;36m, line \u001b[1;32m24\u001b[0m\n\u001b[1;33m    v1 = np.array([1,2,3,4,5,6])\u001b[0m\n\u001b[1;37m     ^\u001b[0m\n\u001b[1;31mSyntaxError\u001b[0m\u001b[1;31m:\u001b[0m invalid syntax\n"
     ]
    }
   ],
   "source": [
    "#Imprimir los números pares\n",
    "arr = np.array([0, 1, 2, 3, 4, 5, 6, 7, 8, 9])\n",
    "print(arr[arr % 2 == 0])\n",
    "\n",
    "#Posiciones en común\n",
    "v1 = np.array([1,2,3,2,3,4,3,4,5,6])\n",
    "v2 = np.array([7,2,10,2,7,4,9,4,9,8])\n",
    "print(np.where(v1 == v2))\n",
    "\n",
    "# Imprimir solo los números que están en cierto rango\n",
    "a = np.arange(20)\n",
    "print(a)\n",
    "a[(a >= 10) & (a <= 20)]\n",
    "\n",
    "#Stack dos vectores verticalmente\n",
    "v1 = np.arange(10).reshape(2,-1)\n",
    "v2 = np.repeat(1, 10).reshape(2,-1)\n",
    "\n",
    "print(np.hstack([v1, v2])\n",
    "\n",
    "#Stack dos vectores horizontalmente\n",
    "#print(np.vstack([v1, v2]))\n",
    "      \n",
    "#Encontrar la intersección de dos vectores\n",
    "v1 = np.array([1,2,3,4,5,6])\n",
    "v2 = np.array([6,7,10,2,7,4,9,4,9,8])\n",
    "print(np.intersect1d(v1,v2))\n",
    "\n",
    "#Diferencia de dos vectores\n",
    "print(np.setdiff1d(v1,v2))\n",
    "\n",
    "#posiciones en donde los vectores son iguales      \n",
    "print(np.where(v1 == v2))\n",
    "      "
   ]
  },
  {
   "cell_type": "markdown",
   "metadata": {},
   "source": [
    "> **EJERCICIO.** Calcula los siguientes vectores:"
   ]
  },
  {
   "cell_type": "code",
   "execution_count": null,
   "metadata": {},
   "outputs": [],
   "source": [
    "#Ahora remplaza los números pares por el valor -1000 (hint: igual que en R)\n",
    "\n",
    "#Encuentra los números impares y reemplaza por -1\n",
    "\n",
    "#Escribe un vector y normalízalo (i.e. que sus entradas queden entre 0 y 1). Hint: usa el método max() y el min()\n",
    "\n",
    "#Ahora reemplaza todas las entradas que sean mayores o iguales que 0.5 por 1 y las que sean menores por -1"
   ]
  },
  {
   "cell_type": "markdown",
   "metadata": {},
   "source": [
    "### 2d-dimensional arrays\n",
    "- Se pueden crear con la misma sintaxis\n",
    "- Con el método `.shape` se puede saber su dimensión\n",
    "- No se pueden poner distintos tipos de datos\n",
    "- Indexación se hace igual\n",
    "- Es fácil indexar con `[m,n]` que con `[m][n]`"
   ]
  },
  {
   "cell_type": "code",
   "execution_count": null,
   "metadata": {},
   "outputs": [],
   "source": [
    "vec2d = np.array([[1, 2, 3],[4, 5, 6]])\n",
    "\n",
    "print(\"El vector construido es: \")\n",
    "print(vec2d)\n",
    "\n",
    "print(\"\\n\")\n",
    "print(\"Su dimensión es: \")\n",
    "print(vec2d.shape)"
   ]
  },
  {
   "cell_type": "code",
   "execution_count": null,
   "metadata": {},
   "outputs": [],
   "source": [
    "print(\"La primera entrada es: \")\n",
    "print(vec2d[0])\n",
    "\n",
    "print(\"\\n\")\n",
    "print(\"El tercer elemento de la primera entrada es:\")\n",
    "print(vec2d[0][2])\n",
    "\n",
    "print(\"\\n\")\n",
    "print(\"El elemento segundo de las dos entradas son\")\n",
    "print(vec2d[ :, 1:2])\n",
    "\n",
    "print(\"\\n\")\n",
    "print(\"La segunda entrada es:\")\n",
    "print(vec2d[1, :])\n"
   ]
  },
  {
   "cell_type": "markdown",
   "metadata": {},
   "source": [
    "## Basics de análisis de datos"
   ]
  },
  {
   "cell_type": "markdown",
   "metadata": {},
   "source": [
    "- Igual que en R, es importante tener estadísticas de resumen: media, mediana, desviación estándar, correlaciones\n",
    "- NumPy tiene muchas funciones predefinidas con este propósito\n",
    "- Se puede generar cualquier variable aleatoria, ver [documentación](https://docs.scipy.org/doc/numpy-1.14.0/reference/routines.random.html)\n"
   ]
  },
  {
   "cell_type": "code",
   "execution_count": 49,
   "metadata": {},
   "outputs": [
    {
     "name": "stdout",
     "output_type": "stream",
     "text": [
      "\n",
      "\n",
      "El vector de normales y exponenciales simuladas es: \n",
      "\n",
      "\n",
      "[[ 0.25841711  2.98809401]\n",
      " [-0.57919578  0.4472996 ]\n",
      " [-1.41599196  2.44280288]\n",
      " ...\n",
      " [ 0.06145879  5.35572962]\n",
      " [ 0.53522677  6.46054401]\n",
      " [-1.42647915  1.63273276]]\n",
      "\n",
      "\n",
      "Resultados normal: \n",
      "La media es 0.002431581085536851\n",
      "La mediana es 0.007017948677150645\n",
      "La desviación estándar es 0.9941608421747169\n",
      "\n",
      "\n",
      "Resultados exponencial: \n",
      "La media es 4.907954874525539\n",
      "La mediana es 3.430198938787596\n",
      "La desviación estándar es 4.86415536913687\n",
      "[[1. 1.]\n",
      " [1. 1.]]\n"
     ]
    }
   ],
   "source": [
    "muestra_normal = np.random.normal(0, 1, 10000)\n",
    "muestra_exp = np. random.exponential(5, 10000)\n",
    "\n",
    "vecsim = np.column_stack((muestra_normal, muestra_exp ))\n",
    "\n",
    "print(\"\\n\")\n",
    "print(\"El vector de normales y exponenciales simuladas es: \")\n",
    "\n",
    "print(\"\\n\")\n",
    "print(vecsim)\n",
    "\n",
    "print(\"\\n\")\n",
    "print(\"Resultados normal: \")\n",
    "print(\"La media es \" + str(np.mean(vecsim[:,0])))\n",
    "print(\"La mediana es \" + str(np.median(vecsim[:,0])))\n",
    "print(\"La desviación estándar es \" + str(np.std(vecsim[:,0])))\n",
    "\n",
    "\n",
    "print(\"\\n\")\n",
    "print(\"Resultados exponencial: \")\n",
    "print(\"La media es \" + str(np.mean(vecsim[:,1])))\n",
    "print(\"La mediana es \" + str(np.median(vecsim[:,1])))\n",
    "print(\"La desviación estándar es \" + str(np.std(vecsim[:,1])))\n",
    "\n",
    "print(np.corrcoef(vecsim[0,:], vecsim[1,:]))"
   ]
  },
  {
   "cell_type": "code",
   "execution_count": null,
   "metadata": {},
   "outputs": [],
   "source": [
    "print(\"El tamaño del arreglo es: \")\n",
    "vecsim.shape"
   ]
  },
  {
   "cell_type": "code",
   "execution_count": null,
   "metadata": {},
   "outputs": [],
   "source": [
    "print(\"\\n\")\n",
    "print(\"Y así se ve: \")\n",
    "print(\"\\n\")\n",
    "print(vecsim)\n"
   ]
  },
  {
   "cell_type": "code",
   "execution_count": null,
   "metadata": {},
   "outputs": [],
   "source": [
    "print(\"La muestra de normales: \")\n",
    "vecsim[:,0]\n"
   ]
  },
  {
   "cell_type": "code",
   "execution_count": null,
   "metadata": {},
   "outputs": [],
   "source": [
    "print(\"La muestra de exponenciales: \")\n",
    "vecsim[:,1]\n"
   ]
  },
  {
   "cell_type": "markdown",
   "metadata": {},
   "source": [
    "## Visualización\n",
    "- Existen varios paquetes para visualización, pero el estrella es `matplotlib`\n",
    "- Permite hacer gráficos de líneas, de dispersión, \n",
    "- Permite cambiar escala de los ejes `plt.xscale('log')`"
   ]
  },
  {
   "cell_type": "markdown",
   "metadata": {},
   "source": [
    "### Gráfico de líneas\n",
    "\n",
    "- Útil para series de tiempo\n",
    "- Nos ayuda a ver tendencias\n",
    "\n",
    "*Sintaxis:* `plt.plot(x, y)`\n",
    "\n",
    "*Sintaxis:* Ejes con `plt.xlabel(\"eje x\")`\n",
    "\n",
    "*Sintaxis:* Ejes con `plt.ylabel(\"eje y\")`\n",
    "\n",
    "*Sintaxis:* Ejes con `plt.ylabel(\"titulo\")`\n"
   ]
  },
  {
   "cell_type": "code",
   "execution_count": 52,
   "metadata": {},
   "outputs": [
    {
     "data": {
      "image/png": "[encoded data removed]",
      "text/plain": [
       "<Figure size 432x288 with 1 Axes>"
      ]
     },
     "metadata": {
      "needs_background": "light"
     },
     "output_type": "display_data"
    }
   ],
   "source": [
    "import matplotlib.pyplot as plt\n",
    "\n",
    "plt.plot(vecsim[0:100, 0], vecsim[0:100, 1])\n",
    "plt.xlabel(\"Simulaciones normales\")\n",
    "plt.ylabel(\"Simulaciones exponenciales\")\n",
    "plt.title(\"Simulaciones normales vs exponenciales\")\n",
    "plt.show()"
   ]
  },
  {
   "cell_type": "markdown",
   "metadata": {},
   "source": [
    "### Gráfico de dispersión\n",
    "\n",
    "- Nos sirve para ver la relación entre dos variables numéricas\n",
    "- Nos ayuda a ver una posible correlación \n",
    "\n",
    "*Sintaxis:* `plt.scatter(x, y)`\n",
    "\n",
    "*Argumentos:* `scatter(x, y)`\n",
    "\n",
    "*Sintaxis:* `plt.yticks([...])` o bien `plt.yticks([...], [names])` para poner un nombre a los ticks\n",
    "\n",
    "*Sintaxis:* `range(inicio, fin, paso)`. Ojo, el fin es exclusivo, se detiene uno antes.\n",
    "\n"
   ]
  },
  {
   "cell_type": "code",
   "execution_count": 51,
   "metadata": {},
   "outputs": [
    {
     "data": {
      "image/png": "[encoded data removed]",
      "text/plain": [
       "<Figure size 432x288 with 1 Axes>"
      ]
     },
     "metadata": {
      "needs_background": "light"
     },
     "output_type": "display_data"
    }
   ],
   "source": [
    "#help(plt.scatter)\n",
    "plt.xscale('log')\n",
    "plt.scatter(vecsim[0:100, 0], vecsim[0:100, 1])\n",
    "plt.yticks([range(0, 10, 2)])\n",
    "plt.yticks([0,2,4,6,8,10], ['0e','2e', '3e', '4e', '5e','6e'])\n",
    "plt.show()"
   ]
  },
  {
   "cell_type": "markdown",
   "metadata": {},
   "source": [
    "### Histograma\n",
    "\n",
    "- Nos ayuda a ver distribución de UNA variable numérica\n",
    "\n",
    "*Sintaxis:* `plt.hist(x, y)`\n",
    "\n",
    "*Argumentos:* `hist(x, bins=None)`\n",
    "\n",
    "- `plt.clf()` nos ayuda a limpiar para poder plotear otra cosa. Si no lo hacemos y ponemos enseguida otra gráfica, las encimará."
   ]
  },
  {
   "cell_type": "code",
   "execution_count": 50,
   "metadata": {},
   "outputs": [
    {
     "name": "stdout",
     "output_type": "stream",
     "text": [
      "\n",
      "\n",
      "Si no le damos el número de bins, el default es 10\n"
     ]
    },
    {
     "data": {
      "image/png": "[encoded data removed]",
      "text/plain": [
       "<Figure size 432x288 with 1 Axes>"
      ]
     },
     "metadata": {
      "needs_background": "light"
     },
     "output_type": "display_data"
    }
   ],
   "source": [
    "print(\"\\n\")\n",
    "print(\"Si no le damos el número de bins, el default es 10\")\n",
    "\n",
    "\n",
    "plt.hist(vecsim[0:100, 0])\n",
    "plt.show()\n",
    "\n"
   ]
  },
  {
   "cell_type": "code",
   "execution_count": null,
   "metadata": {},
   "outputs": [],
   "source": [
    "\n",
    "plt.clf()\n",
    "print(\"\\n\")\n",
    "print(\"Ahora le damos un número de bins de 20\")\n",
    "\n",
    "plt.hist(vecsim[0:100, 0], 20)\n",
    "plt.show()\n",
    "\n"
   ]
  },
  {
   "cell_type": "code",
   "execution_count": null,
   "metadata": {},
   "outputs": [],
   "source": [
    "\n",
    "plt.clf()\n",
    "print(\"\\n\")\n",
    "print(\"Ahora le damos un número de bins de 5\")\n",
    "plt.hist(vecsim[0:100, 0], 5)\n",
    "plt.show()"
   ]
  },
  {
   "cell_type": "code",
   "execution_count": null,
   "metadata": {},
   "outputs": [],
   "source": [
    "\n"
   ]
  },
  {
   "cell_type": "code",
   "execution_count": null,
   "metadata": {},
   "outputs": [],
   "source": []
  },
  {
   "cell_type": "code",
   "execution_count": null,
   "metadata": {},
   "outputs": [],
   "source": []
  },
  {
   "cell_type": "code",
   "execution_count": null,
   "metadata": {},
   "outputs": [],
   "source": []
  },
  {
   "cell_type": "code",
   "execution_count": null,
   "metadata": {},
   "outputs": [],
   "source": []
  },
  {
   "cell_type": "code",
   "execution_count": null,
   "metadata": {},
   "outputs": [],
   "source": []
  },
  {
   "cell_type": "code",
   "execution_count": null,
   "metadata": {},
   "outputs": [],
   "source": []
  },
  {
   "cell_type": "code",
   "execution_count": null,
   "metadata": {},
   "outputs": [],
   "source": []
  },
  {
   "cell_type": "code",
   "execution_count": null,
   "metadata": {},
   "outputs": [],
   "source": []
  },
  {
   "cell_type": "code",
   "execution_count": null,
   "metadata": {},
   "outputs": [],
   "source": []
  },
  {
   "cell_type": "code",
   "execution_count": null,
   "metadata": {},
   "outputs": [],
   "source": []
  },
  {
   "cell_type": "code",
   "execution_count": null,
   "metadata": {},
   "outputs": [],
   "source": []
  },
  {
   "cell_type": "code",
   "execution_count": null,
   "metadata": {},
   "outputs": [],
   "source": []
  },
  {
   "cell_type": "code",
   "execution_count": null,
   "metadata": {},
   "outputs": [],
   "source": []
  },
  {
   "cell_type": "code",
   "execution_count": null,
   "metadata": {},
   "outputs": [],
   "source": []
  },
  {
   "cell_type": "code",
   "execution_count": null,
   "metadata": {},
   "outputs": [],
   "source": []
  },
  {
   "cell_type": "code",
   "execution_count": null,
   "metadata": {},
   "outputs": [],
   "source": []
  },
  {
   "cell_type": "code",
   "execution_count": null,
   "metadata": {},
   "outputs": [],
   "source": []
  },
  {
   "cell_type": "code",
   "execution_count": null,
   "metadata": {},
   "outputs": [],
   "source": []
  },
  {
   "cell_type": "code",
   "execution_count": null,
   "metadata": {},
   "outputs": [],
   "source": []
  },
  {
   "cell_type": "code",
   "execution_count": null,
   "metadata": {},
   "outputs": [],
   "source": []
  },
  {
   "cell_type": "code",
   "execution_count": null,
   "metadata": {},
   "outputs": [],
   "source": []
  },
  {
   "cell_type": "code",
   "execution_count": null,
   "metadata": {},
   "outputs": [],
   "source": []
  },
  {
   "cell_type": "code",
   "execution_count": null,
   "metadata": {},
   "outputs": [],
   "source": []
  },
  {
   "cell_type": "code",
   "execution_count": null,
   "metadata": {},
   "outputs": [],
   "source": []
  },
  {
   "cell_type": "code",
   "execution_count": null,
   "metadata": {},
   "outputs": [],
   "source": []
  },
  {
   "cell_type": "code",
   "execution_count": null,
   "metadata": {},
   "outputs": [],
   "source": []
  },
  {
   "cell_type": "code",
   "execution_count": null,
   "metadata": {},
   "outputs": [],
   "source": []
  }
 ],
 "metadata": {
  "kernelspec": {
   "display_name": "Python 3",
   "language": "python",
   "name": "python3"
  },
  "language_info": {
   "codemirror_mode": {
    "name": "ipython",
    "version": 3
   },
   "file_extension": ".py",
   "mimetype": "text/x-python",
   "name": "python",
   "nbconvert_exporter": "python",
   "pygments_lexer": "ipython3",
   "version": "3.7.0"
  }
 },
 "nbformat": 4,
 "nbformat_minor": 2
}
